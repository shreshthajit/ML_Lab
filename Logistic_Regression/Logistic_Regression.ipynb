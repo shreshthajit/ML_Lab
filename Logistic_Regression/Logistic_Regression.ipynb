{
  "cells": [
    {
      "cell_type": "markdown",
      "metadata": {
        "id": "view-in-github",
        "colab_type": "text"
      },
      "source": [
        "<a href=\"https://colab.research.google.com/github/shreshthajit/ML_Lab/blob/main/Logistic_Regression/Logistic_Regression.ipynb\" target=\"_parent\"><img src=\"https://colab.research.google.com/assets/colab-badge.svg\" alt=\"Open In Colab\"/></a>"
      ]
    },
    {
      "cell_type": "markdown",
      "metadata": {
        "id": "Qb9SWr0Tq0MS"
      },
      "source": [
        "### **Logistic Regression Intuition**"
      ]
    },
    {
      "cell_type": "code",
      "execution_count": null,
      "metadata": {
        "id": "3oNXGvtjhdP1"
      },
      "outputs": [],
      "source": [
        "import numpy as np\n",
        "import matplotlib.pyplot as plt\n",
        "import copy\n",
        "import math\n",
        "from matplotlib.patches import FancyArrowPatch\n",
        "from ipywidgets import Output"
      ]
    },
    {
      "cell_type": "code",
      "execution_count": null,
      "metadata": {
        "id": "XC_lTr4Ug0y7",
        "colab": {
          "base_uri": "https://localhost:8080/"
        },
        "outputId": "fdbdffae-6302-4a0a-d3de-3e6ad3b353a0"
      },
      "outputs": [
        {
          "output_type": "execute_result",
          "data": {
            "text/plain": [
              "array([[0.5, 1.5],\n",
              "       [1. , 1. ],\n",
              "       [1.5, 0.5],\n",
              "       [3. , 0.5],\n",
              "       [2. , 2. ],\n",
              "       [1. , 2.5]])"
            ]
          },
          "metadata": {},
          "execution_count": 7
        }
      ],
      "source": [
        "X_train = np.array([[0.5, 1.5], [1,1], [1.5, 0.5], [3, 0.5], [2, 2], [1, 2.5]])  #(m,n)\n",
        "y_train = np.array([0, 0, 0, 1, 1, 1])  \n",
        "X_train\n",
        " "
      ]
    },
    {
      "cell_type": "code",
      "execution_count": null,
      "metadata": {
        "id": "N8B5xPjAg_pz",
        "colab": {
          "base_uri": "https://localhost:8080/",
          "height": 282
        },
        "outputId": "9e79e5d2-6dc5-4a36-c9af-52078ad71969"
      },
      "outputs": [
        {
          "output_type": "stream",
          "name": "stdout",
          "text": [
            "(6,)\n"
          ]
        },
        {
          "output_type": "display_data",
          "data": {
            "text/plain": [
              "<Figure size 288x288 with 1 Axes>"
            ],
            "image/png": "[encoded data removed]"
          },
          "metadata": {
            "needs_background": "light"
          }
        }
      ],
      "source": [
        "pos_label=\"y=1\"\n",
        "neg_label=\"y=0\"\n",
        "fig, ax = plt.subplots(1,1,figsize=(4,4))\n",
        "\n",
        "# this will store the indexers for class 0 and 1\n",
        "pos = y_train == 1\n",
        "neg = y_train == 0\n",
        "print(pos.shape)\n",
        "\n",
        "# Plot examples\n",
        "ax.scatter(X_train[pos, 0], X_train[pos, 1], marker='x', s=80, c = 'red', label=pos_label)\n",
        "ax.scatter(X_train[neg, 0], X_train[neg, 1], marker='o', s=80, label=neg_label, facecolors='none', edgecolors='#0096ff', lw=3)\n",
        "ax.legend(loc='best' )\n",
        "\n",
        "ax.figure.canvas.toolbar_visible = False\n",
        "ax.figure.canvas.header_visible = False\n",
        "ax.figure.canvas.footer_visible = False"
      ]
    },
    {
      "cell_type": "code",
      "execution_count": null,
      "metadata": {
        "id": "K2HMCPDSkUnz"
      },
      "outputs": [],
      "source": [
        "def sigmoid(z):\n",
        "    z = np.clip( z, -500, 500 )           # protect against overflow\n",
        "    g = 1.0/(1.0+np.exp(-z))\n",
        "    return g"
      ]
    },
    {
      "cell_type": "code",
      "execution_count": null,
      "metadata": {
        "id": "ySyzbmRIkHYD"
      },
      "outputs": [],
      "source": [
        "def compute_cost_logistic(X, y, w, b):\n",
        "    \"\"\"\n",
        "    Computes cost\n",
        "\n",
        "    Args:\n",
        "      X (ndarray (m,n)): Data, m examples with n features\n",
        "      y (ndarray (m,)) : target values\n",
        "      w (ndarray (n,)) : model parameters  \n",
        "      b (scalar)       : model parameter\n",
        "      \n",
        "    Returns:\n",
        "      cost (scalar): cost\n",
        "    \"\"\"\n",
        "\n",
        "    m = X.shape[0]\n",
        "    cost = 0.0\n",
        "    for i in range(m):\n",
        "        z_i = np.dot(X[i],w) + b\n",
        "        f_wb_i = sigmoid(z_i)\n",
        "        cost +=  -y[i]*np.log(f_wb_i) - (1-y[i])*np.log(1-f_wb_i)\n",
        "             \n",
        "    cost = cost / m\n",
        "    return cost"
      ]
    },
    {
      "cell_type": "code",
      "execution_count": null,
      "metadata": {
        "colab": {
          "base_uri": "https://localhost:8080/"
        },
        "id": "ZrmI5JhMjBpi",
        "outputId": "bd3681a5-380a-449c-f22b-83865b42d4a4"
      },
      "outputs": [
        {
          "output_type": "stream",
          "name": "stdout",
          "text": [
            "0.36686678640551745\n"
          ]
        }
      ],
      "source": [
        "w_tmp = np.array([1,1])\n",
        "b_tmp = -3\n",
        "print(compute_cost_logistic(X_train, y_train, w_tmp, b_tmp))"
      ]
    },
    {
      "cell_type": "code",
      "source": [
        "x0 = np.arange(0,6)\n",
        "x0"
      ],
      "metadata": {
        "colab": {
          "base_uri": "https://localhost:8080/"
        },
        "id": "BS0rVXK-AOSf",
        "outputId": "cfc35273-21bd-4487-dc11-5bd7e20f0404"
      },
      "execution_count": null,
      "outputs": [
        {
          "output_type": "execute_result",
          "data": {
            "text/plain": [
              "array([0, 1, 2, 3, 4, 5])"
            ]
          },
          "metadata": {},
          "execution_count": 15
        }
      ]
    },
    {
      "cell_type": "code",
      "execution_count": null,
      "metadata": {
        "id": "CPNIYUeWkoMi",
        "colab": {
          "base_uri": "https://localhost:8080/",
          "height": 298
        },
        "outputId": "1cb5f0d7-4b49-435f-abd9-f5560add6b9e"
      },
      "outputs": [
        {
          "output_type": "display_data",
          "data": {
            "text/plain": [
              "<Figure size 288x288 with 1 Axes>"
            ],
            "image/png": "[encoded data removed]"
          },
          "metadata": {
            "needs_background": "light"
          }
        }
      ],
      "source": [
        "# Choose values between 0 and 6\n",
        "x0 = np.arange(0,6)\n",
        "x0\n",
        "# Plot the two decision boundaries\n",
        "x1 = 3 - x0\n",
        "x1_other = 4 - x0\n",
        "\n",
        "fig,ax = plt.subplots(1, 1, figsize=(4,4))\n",
        "# Plot the decision boundary\n",
        "ax.plot(x0,x1, c='#0096ff', label=\"$b$=-3\")\n",
        "ax.plot(x0,x1_other, c='#FF40FF', label=\"$b$=-4\")\n",
        "ax.axis([0, 4, 0, 4])\n",
        "\n",
        "# Plot the original data\n",
        "\n",
        "ax.scatter(X_train[pos, 0], X_train[pos, 1], marker='x', s=80, c = 'red', label=pos_label)\n",
        "ax.scatter(X_train[neg, 0], X_train[neg, 1], marker='o', s=80, label=neg_label, facecolors='none', edgecolors='#0096ff', lw=3)\n",
        "ax.legend(loc='best' )\n",
        "\n",
        "ax.figure.canvas.toolbar_visible = False\n",
        "ax.figure.canvas.header_visible = False\n",
        "ax.figure.canvas.footer_visible = False\n",
        "\n",
        "ax.axis([0, 4, 0, 4])\n",
        "ax.set_ylabel('$x_1$', fontsize=12)\n",
        "ax.set_xlabel('$x_0$', fontsize=12)\n",
        "plt.legend(loc=\"upper right\")\n",
        "plt.title(\"Decision Boundary\")\n",
        "plt.show()"
      ]
    },
    {
      "cell_type": "code",
      "execution_count": null,
      "metadata": {
        "id": "KC3ztZ8tkwiK",
        "colab": {
          "base_uri": "https://localhost:8080/"
        },
        "outputId": "6c8b005a-865d-4e5f-c25e-bbe287605fa6"
      },
      "outputs": [
        {
          "output_type": "stream",
          "name": "stdout",
          "text": [
            "Cost for b = -3 :  0.36686678640551745\n",
            "Cost for b = -4 :  0.5036808636748461\n"
          ]
        }
      ],
      "source": [
        "w_array1 = np.array([1,1])\n",
        "b_1 = -3\n",
        "w_array2 = np.array([1,1])\n",
        "b_2 = -4\n",
        "print(\"Cost for b = -3 : \", compute_cost_logistic(X_train, y_train, w_array1, b_1))\n",
        "print(\"Cost for b = -4 : \", compute_cost_logistic(X_train, y_train, w_array2, b_2))"
      ]
    },
    {
      "cell_type": "code",
      "execution_count": null,
      "metadata": {
        "id": "IiF9Lx1WqtTT"
      },
      "outputs": [],
      "source": []
    },
    {
      "cell_type": "markdown",
      "metadata": {
        "id": "lrSooZM3rA6j"
      },
      "source": [
        "### **Gradient Descent**"
      ]
    },
    {
      "cell_type": "code",
      "execution_count": null,
      "metadata": {
        "id": "viKhciCfrEhY"
      },
      "outputs": [],
      "source": [
        "def compute_gradient_logistic(X, y, w, b): \n",
        "    \"\"\"\n",
        "    Computes the gradient for linear regression \n",
        " \n",
        "    Args:\n",
        "      X (ndarray (m,n): Data, m examples with n features\n",
        "      y (ndarray (m,)): target values\n",
        "      w (ndarray (n,)): model parameters  \n",
        "      b (scalar)      : model parameter\n",
        "    Returns\n",
        "      dj_dw (ndarray (n,)): The gradient of the cost w.r.t. the parameters w. \n",
        "      dj_db (scalar)      : The gradient of the cost w.r.t. the parameter b. \n",
        "    \"\"\"\n",
        "    m,n = X.shape\n",
        "    # print(m,n)\n",
        "    dj_dw = np.zeros((n,))                           #(n,)\n",
        "    dj_db = 0.\n",
        "\n",
        "    for i in range(m):\n",
        "        f_wb_i = sigmoid(np.dot(X[i],w) + b)          #(n,)(n,)=scalar\n",
        "        err_i  = f_wb_i  - y[i]                       #scalar\n",
        "        for j in range(n):\n",
        "            dj_dw[j] = dj_dw[j] + err_i * X[i,j]      #scalar\n",
        "        dj_db = dj_db + err_i\n",
        "    dj_dw = dj_dw/m                                   #(n,)\n",
        "    dj_db = dj_db/m                                   #scalar\n",
        "        \n",
        "    return dj_db, dj_dw"
      ]
    },
    {
      "cell_type": "code",
      "execution_count": null,
      "metadata": {
        "id": "XNFbKCYJCnHK"
      },
      "outputs": [],
      "source": [
        "def gradient_descent(X, y, w_in, b_in, alpha, num_iters): \n",
        "    \"\"\"\n",
        "    Performs batch gradient descent\n",
        "    \n",
        "    Args:\n",
        "      X (ndarray (m,n)   : Data, m examples with n features\n",
        "      y (ndarray (m,))   : target values\n",
        "      w_in (ndarray (n,)): Initial values of model parameters  \n",
        "      b_in (scalar)      : Initial values of model parameter\n",
        "      alpha (float)      : Learning rate\n",
        "      num_iters (scalar) : number of iterations to run gradient descent\n",
        "      \n",
        "    Returns:\n",
        "      w (ndarray (n,))   : Updated values of parameters\n",
        "      b (scalar)         : Updated value of parameter \n",
        "    \"\"\"\n",
        "    # An array to store cost J and w's at each iteration primarily for graphing later\n",
        "    J_history = []\n",
        "    w = copy.deepcopy(w_in)  #avoid modifying global w within function\n",
        "    b = b_in\n",
        "    \n",
        "    for i in range(num_iters):\n",
        "        # Calculate the gradient and update the parameters\n",
        "        dj_db, dj_dw = compute_gradient_logistic(X, y, w, b)   \n",
        "\n",
        "        # Update Parameters using w, b, alpha and gradient\n",
        "        w = w - alpha * dj_dw               \n",
        "        b = b - alpha * dj_db               \n",
        "      \n",
        "        # Save cost J at each iteration\n",
        "        if i<100000:      # prevent resource exhaustion \n",
        "            J_history.append( compute_cost_logistic(X, y, w, b) )\n",
        "\n",
        "        # Print cost every at intervals 10 times or as many iterations if < 10\n",
        "        if i% math.ceil(num_iters / 10) == 0:\n",
        "            print(f\"Iteration {i:4d}: Cost {J_history[-1]}   \")\n",
        "        \n",
        "    return w, b, J_history         #return final w,b and J history for graphing"
      ]
    },
    {
      "cell_type": "code",
      "execution_count": null,
      "metadata": {
        "colab": {
          "background_save": true
        },
        "id": "RNmxGIgGCyky",
        "outputId": "00526d4f-3065-4231-efb3-26a3ad3e6f9a"
      },
      "outputs": [
        {
          "name": "stdout",
          "output_type": "stream",
          "text": [
            "Iteration    0: Cost 0.684610468560574   \n",
            "Iteration 1000: Cost 0.1590977666870457   \n",
            "Iteration 2000: Cost 0.08460064176930078   \n",
            "Iteration 3000: Cost 0.05705327279402531   \n",
            "Iteration 4000: Cost 0.04290759421682   \n",
            "Iteration 5000: Cost 0.03433847729884557   \n",
            "Iteration 6000: Cost 0.02860379802212006   \n",
            "Iteration 7000: Cost 0.02450156960879306   \n",
            "Iteration 8000: Cost 0.02142370332569295   \n",
            "Iteration 9000: Cost 0.019030137124109114   \n",
            "\n",
            "updated parameters: w:[5.28123029 5.07815608], b:-14.222409982019837\n"
          ]
        }
      ],
      "source": [
        "w_tmp  = np.zeros_like(X_train[0])\n",
        "b_tmp  = 0.\n",
        "alph = 0.1\n",
        "iters = 10000\n",
        "\n",
        "w_out, b_out, _ = gradient_descent(X_train, y_train, w_tmp, b_tmp, alph, iters) \n",
        "print(f\"\\nupdated parameters: w:{w_out}, b:{b_out}\")"
      ]
    },
    {
      "cell_type": "code",
      "execution_count": null,
      "metadata": {
        "colab": {
          "background_save": true
        },
        "id": "ATEsTvP3C4ZZ",
        "outputId": "ad61a5a7-1dec-4e50-d9f9-ea6f46f4abe2"
      },
      "outputs": [
        {
          "data": {
            "image/png": "[encoded data removed]",
            "text/plain": [
              "<Figure size 360x288 with 1 Axes>"
            ]
          },
          "metadata": {},
          "output_type": "display_data"
        }
      ],
      "source": [
        "fig,ax = plt.subplots(1,1,figsize=(5,4))\n",
        "\n",
        "# Plot the original data\n",
        "ax.set_ylabel(r'$x_1$')\n",
        "ax.set_xlabel(r'$x_0$')   \n",
        "ax.axis([0, 4, 0, 3.5])\n",
        "\n",
        "# Plot examples\n",
        "ax.scatter(X_train[pos, 0], X_train[pos, 1], marker='x', s=80, c = 'red', label=pos_label)\n",
        "ax.scatter(X_train[neg, 0], X_train[neg, 1], marker='o', s=80, label=neg_label, facecolors='none', edgecolors='#0096ff', lw=3)\n",
        "ax.legend(loc='best' )\n",
        "\n",
        "ax.figure.canvas.toolbar_visible = False\n",
        "ax.figure.canvas.header_visible = False\n",
        "ax.figure.canvas.footer_visible = False\n",
        "\n",
        "# Plot the decision boundary\n",
        "x0 = -b_out/w_out[0]\n",
        "x1 = -b_out/w_out[1]\n",
        "ax.plot([0,x0],[x1,0], c='#0096ff', lw=1)\n",
        "plt.show()"
      ]
    },
    {
      "cell_type": "code",
      "execution_count": null,
      "metadata": {
        "id": "q0hOTsynDQDu"
      },
      "outputs": [],
      "source": []
    }
  ],
  "metadata": {
    "colab": {
      "provenance": [],
      "include_colab_link": true
    },
    "kernelspec": {
      "display_name": "Python 3 (ipykernel)",
      "language": "python",
      "name": "python3"
    },
    "language_info": {
      "codemirror_mode": {
        "name": "ipython",
        "version": 3
      },
      "file_extension": ".py",
      "mimetype": "text/x-python",
      "name": "python",
      "nbconvert_exporter": "python",
      "pygments_lexer": "ipython3",
      "version": "3.8.8"
    }
  },
  "nbformat": 4,
  "nbformat_minor": 0
}